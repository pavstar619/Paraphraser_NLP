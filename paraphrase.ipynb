{
 "metadata": {
  "language_info": {
   "codemirror_mode": {
    "name": "ipython",
    "version": 3
   },
   "file_extension": ".py",
   "mimetype": "text/x-python",
   "name": "python",
   "nbconvert_exporter": "python",
   "pygments_lexer": "ipython3",
   "version": "3.8.1-final"
  },
  "orig_nbformat": 2,
  "kernelspec": {
   "name": "python38132bit5aaef5d919204f319a671739d08258d5",
   "display_name": "Python 3.8.1 32-bit"
  }
 },
 "nbformat": 4,
 "nbformat_minor": 2,
 "cells": [
  {
   "cell_type": "code",
   "execution_count": 3,
   "metadata": {
    "tags": []
   },
   "outputs": [
    {
     "output_type": "stream",
     "name": "stdout",
     "text": "the 5 biggest countries by population in 2017 are china, india, united states, indonesia, and brazil.\n"
    }
   ],
   "source": [
    "input_str ='The 5 biggest countries by population in 2017 are China, India, United States, Indonesia, and Brazil.'\n",
    "input_str = input_str.lower()\n",
    "print(input_str)"
   ]
  },
  {
   "cell_type": "code",
   "execution_count": 3,
   "metadata": {
    "tags": []
   },
   "outputs": [
    {
     "output_type": "stream",
     "name": "stdout",
     "text": "Box A contains  red and  white balls, while Box B contains  red and  blue balls.\n"
    }
   ],
   "source": [
    "import re\n",
    "string1 = 'Box A contains 3 red and 5 white balls, while Box B contains 4 red and 2 blue balls.'\n",
    "result = re.sub(r'\\d+', '', string1)\n",
    "print(result)"
   ]
  },
  {
   "cell_type": "code",
   "execution_count": 7,
   "metadata": {
    "tags": []
   },
   "outputs": [
    {
     "output_type": "stream",
     "name": "stdout",
     "text": "a string example\n"
    }
   ],
   "source": [
    "input_str = \" \\t a string example\\t \"\n",
    "input_str = input_str.strip()\n",
    "print(input_str)"
   ]
  },
  {
   "cell_type": "markdown",
   "metadata": {},
   "source": [
    "# Tokenization using Python"
   ]
  },
  {
   "cell_type": "code",
   "execution_count": 12,
   "metadata": {
    "tags": [
     "outputPrepend"
    ]
   },
   "outputs": [
    {
     "output_type": "stream",
     "name": "stdout",
     "text": "found in\n     the release archive.The next release would beBeta 2, planned for August 8th.The signatures for the release can be found inthe\n     manifestor onthe QA site.Thank you for helping us make PHP better.11 Jul 2019PHP 7.4.0 alpha 3 ReleasedPHP team is glad to announce the release of the third PHP 7.4.0 version, PHP\n     7.4.0 Alpha 3. This continues the PHP 7.4 release cycle, the rough outline of\n     which is specified in thePHP\n     Wiki.For source downloads of PHP 7.4.0 Alpha 3 please visit thedownload page.Please carefully test this version and report any issues found in thebug reporting system.Please DO NOT use this version in production, it is an early test\n     version.For more information on the new features and other changes, you can read theNEWSfile,\n      or theUPGRADINGfile for a complete list of upgrading notes. These files can also be found in the release archive.The next release would beBeta 1, planned for July 25th.The signatures for the release can be found inthe\n     manifestor onthe QA site.Thank you for helping us make PHP better.26 Jun 2019PHP 7.4.0 alpha 2 ReleasedPHP team is glad to announce the release of the second PHP 7.4.0 version, PHP 7.4.0 Alpha 2.\n     This continues the PHP 7.4 release cycle, the rough outline of which is specified in thePHP Wiki.For source downloads of PHP 7.4.0 Alpha 2 please visit thedownload page.Please carefully test this version and report any issues found in thebug reporting system.Please DO NOT use this version in production, it is an early test version.For more information on the new features and other changes, you can read theNEWSfile,\n         or theUPGRADINGfile for a complete list of upgrading notes. These files can also be found in the release archive.The next release would be Alpha 3, planned for July 11th.The signatures for the release can be found inthe manifestor onthe\n     QA site.Thank you for helping us make PHP better.13 Jun 2019PHP 7.4.0 alpha 1 ReleasedPHP team is glad to announce the release of the first PHP 7.4.0 version, PHP 7.4.0 Alpha 1.\n     This starts the PHP 7.4 release cycle, the rough outline of which is specified in thePHP Wiki.For source downloads of PHP 7.4.0 Alpha 1 please visit thedownload page.Please carefully test this version and report any issues found in thebug reporting system.Please DO NOT use this version in production, it is an early test version.For more information on the new features and other changes, you can read theNEWSfile,\n         or theUPGRADINGfile for a complete list of upgrading notes. These files can also be found in the release archive.The next release would be Alpha 2, planned for June 27.The signatures for the release can be found inthe manifestor onthe\n     QA site.Thank you for helping us make PHP better.22 Nov 2018PHP 7.3.0RC6 ReleasedThe PHP team is glad to announce the presumably last PHP 7.3.0 pre-release, PHP 7.3.0RC6.\n        The rough outline of the PHP 7.3 release cycle is specified in thePHP Wiki.For source downloads of PHP 7.3.0RC6 please visit thedownload page.\n        Windows sources and binaries can be found onwindows.php.net/qa/.Please carefully test this version and report any issues found in thebug reporting system.THIS IS A DEVELOPMENT PREVIEW - DO NOT USE IT IN PRODUCTION!For more information on the new features and other changes, you can read theNEWSfile,\n        or theUPGRADINGfile for a complete list of upgrading notes. Internal changes are listed in theUPGRADING.INTERNALSfile.\n        These files can also be found in the release archive.The next release would be 7.3.0 (GA), planned for December 6th.The signatures for the release can be found inthe manifestor onthe QA site.Thank you for helping us make PHP better.08 Nov 2018PHP 7.3.0RC5 ReleasedThe PHP team is glad to announce the next PHP 7.3.0 pre-release, PHP 7.3.0RC5.\n        The rough outline of the PHP 7.3 release cycle is specified in thePHP Wiki.For source downloads of PHP 7.3.0RC5 please visit thedownload page.\n        Windows sources and binaries can be found onwindows.php.net/qa/.Please carefully test this version and report any issues found in thebug reporting system.THIS IS A DEVELOPMENT PREVIEW - DO NOT USE IT IN PRODUCTION!For more information on the new features and other changes, you can read theNEWSfile,\n        or theUPGRADINGfile for a complete list of upgrading notes. Internal changes are listed in theUPGRADING.INTERNALSfile.\n        These files can also be found in the release archive.The next release would be RC6, planned for November 22nd.The signatures for the release can be found inthe manifestor onthe QA site.Thank you for helping us make PHP better.25 Oct 2018PHP 7.3.0RC4 ReleasedThe PHP team is glad to announce the next PHP 7.3.0 pre-release, PHP 7.3.0RC4.\n        The rough outline of the PHP 7.3 release cycle is specified in thePHP Wiki.For source downloads of PHP 7.3.0RC4 please visit thedownload page.\n        Windows sources and binaries can be found onwindows.php.net/qa/.Please carefully test this version and report any issues found in thebug reporting system.THIS IS A DEVELOPMENT PREVIEW - DO NOT USE IT IN PRODUCTION!For more information on the new features and other changes, you can read theNEWSfile,\n        or theUPGRADINGfile for a complete list of upgrading notes. Internal changes are listed in theUPGRADING.INTERNALSfile.\n        These files can also be found in the release archive.The next release would be RC5, planned for November 8th.The signatures for the release can be found inthe manifestor onthe QA site.Thank you for helping us make PHP better.11 Oct 2018PHP 7.3.0RC3 ReleasedThe PHP team is glad to announce the next PHP 7.3.0 pre-release, PHP 7.3.0RC3.\n        The rough outline of the PHP 7.3 release cycle is specified in thePHP Wiki.For source downloads of PHP 7.3.0RC3 please visit thedownload page.\n        Windows sources and binaries can be found onwindows.php.net/qa/.Please carefully test this version and report any issues found in thebug reporting system.THIS IS A DEVELOPMENT PREVIEW - DO NOT USE IT IN PRODUCTION!For more information on the new features and other changes, you can read theNEWSfile,\n        or theUPGRADINGfile for a complete list of upgrading notes. Internal changes are listed in theUPGRADING.INTERNALSfile.\n        These files can also be found in the release archive.The next release would be RC4, planned for October 25th.The signatures for the release can be found inthe manifestor onthe QA site.Thank you for helping us make PHP better.28 Sep 2018PHP 7.3.0RC2 ReleasedThe PHP team is glad to announce the next PHP 7.3.0 pre-release, PHP 7.3.0RC2.\n        The rough outline of the PHP 7.3 release cycle is specified in thePHP Wiki.For source downloads of PHP 7.3.0RC2 please visit thedownload page.\n        Windows sources and binaries can be found onwindows.php.net/qa/.Please carefully test this version and report any issues found in thebug reporting system.THIS IS A DEVELOPMENT PREVIEW - DO NOT USE IT IN PRODUCTION!For more information on the new features and other changes, you can read theNEWSfile,\n        or theUPGRADINGfile for a complete list of upgrading notes. Internal changes are listed in theUPGRADING.INTERNALSfile.\n        These files can also be found in the release archive.The next release would be RC3, planned for October 11th.The signatures for the release can be found inthe manifestor onthe QA site.Thank you for helping us make PHP better.13 Sep 2018PHP 7.3.0RC1 ReleasedThe PHP team is glad to announce the release of the next PHP 7.3.0 pre-release, PHP 7.3.0RC1.\n        The rough outline of the PHP 7.3 release cycle is specified in thePHP Wiki.For source downloads of PHP 7.3.0RC1 please visit thedownload page.\n        Windows sources and binaries can be found onwindows.php.net/qa/.Please carefully test this version and report any issues found in thebug reporting system.THIS IS A DEVELOPMENT PREVIEW - DO NOT USE IT IN PRODUCTION!For more information on the new features and other changes, you can read theNEWSfile,\n        or theUPGRADINGfile for a complete list of upgrading notes. Internal changes are listed in theUPGRADING.INTERNALSfile.\n        These files can also be found in the release archive.The next release would be RC2, planned for September 27th.The signatures for the release can be found inthe manifestor onthe QA site.Thank you for helping us make PHP better.30 Aug 2018PHP 7.3.0.beta3 ReleasedThe PHP team is glad to announce the release of the seventh PHP 7.3.0 version, PHP 7.3.0beta3.\n        The rough outline of the PHP 7.3 release cycle is specified in thePHP Wiki.For source downloads of PHP 7.3.0beta3 please visit thedownload page.\n        Windows sources and binaries can be found onwindows.php.net/qa/.Please carefully test this version and report any issues found in thebug reporting system.THIS IS A DEVELOPMENT PREVIEW - DO NOT USE IT IN PRODUCTION!For more information on the new features and other changes, you can read theNEWSfile,\n        or theUPGRADINGfile for a complete list of upgrading notes. Internal changes are listed in theUPGRADING.INTERNALSfile.\n        These files can also be found in the release archive.The next release would be RC1, planned for September 13th.The signatures for the release can be found inthe manifestor onthe QA site.Thank you for helping us make PHP better.16 Aug 2018PHP 7.3.0.beta2 ReleasedThe PHP team is glad to announce the release of the sixth PHP 7.3.0 version, PHP 7.3.0beta2.\n        The rough outline of the PHP 7.3 release cycle is specified in thePHP Wiki.For source downloads of PHP 7.3.0beta2 please visit thedownload page.\n        Windows sources and binaries can be found onwindows.php.net/qa/.Please carefully test this version and report any issues found in thebug reporting system.THIS IS A DEVELOPMENT PREVIEW - DO NOT USE IT IN PRODUCTION!For more information on the new features and other changes, you can read theNEWSfile,\n        or theUPGRADINGfile for a complete list of upgrading notes. Internal changes are listed in theUPGRADING.INTERNALSfile.\n        These files can also be found in the release archive.The next release would be Beta 3, planned for August 30th.The signatures for the release can be found inthe manifestor onthe QA site.Thank you for helping us make PHP better.02 Aug 2018PHP 7.3.0.beta1 ReleasedThe PHP team is glad to announce the release of the fifth PHP 7.3.0 version, PHP 7.3.0beta1.\n        The rough outline of the PHP 7.3 release cycle is specified in thePHP Wiki.For source downloads of PHP 7.3.0beta1 please visit thedownload page.\n        Windows sources and binaries can be found onwindows.php.net/qa/.Please carefully test this version and report any issues found in thebug reporting system.THIS IS A DEVELOPMENT PREVIEW - DO NOT USE IT IN PRODUCTION!For more information on the new features and other changes, you can read theNEWSfile,\n        or theUPGRADINGfile for a complete list of upgrading notes. These files can also be found in the release archive.The next release would be Beta 2, planned for August 16th.The signatures for the release can be found inthe manifestor onthe QA site.Thank you for helping us make PHP better.19 Jul 2018PHP 7.3.0alpha4 ReleasedThe PHP team is glad to announce the release of the fourth PHP 7.3.0 version, PHP 7.3.0alpha4.\n        The rough outline of the PHP 7.3 release cycle is specified in thePHP Wiki.For source downloads of PHP 7.3.0alpha4 please visit thedownload page.\n        Windows sources and binaries can be found onwindows.php.net/qa/.Please carefully test this version and report any issues found in thebug reporting system.THIS IS A DEVELOPMENT PREVIEW - DO NOT USE IT IN PRODUCTION!For more information on the new features and other changes, you can read theNEWSfile,\n        or theUPGRADINGfile for a complete list of upgrading notes. These files can also be found in the release archive.The next release would be Beta 1, planned for August 2nd.The signatures for the release can be found inthe manifestor onthe QA site.Thank you for helping us make PHP better.05 Jul 2018PHP 7.3.0 alpha 3 ReleasedThe PHP team is glad to announce the release of the third PHP 7.3.0 version, PHP 7.3.0 Alpha 3.\n      The rough outline of the PHP 7.3 release cycle is specified in thePHP Wiki.For source downloads of PHP 7.3.0 Alpha 3 please visit thedownload page.\n      Windows sources and binaries can be found onwindows.php.net/qa/.Please carefully test this version and report any issues found in thebug reporting system.THIS IS A DEVELOPMENT PREVIEW - DO NOT USE IT IN PRODUCTION!For more information on the new features and other changes, you can read theNEWSfile,\n      or theUPGRADINGfile for a complete list of upgrading notes. These files can also be found in the release archive.The next release would be Beta 1, planned for July 19th.The signatures for the release can be found inthe manifestor onthe QA site.Thank you for helping us make PHP better.21 Jun 2018PHP 7.3.0 alpha 2 ReleasedThe PHP team is glad to announce the release of the second PHP 7.3.0 version, PHP 7.3.0 Alpha 2.\n      The rough outline of the PHP 7.3 release cycle is specified in thePHP Wiki.For source downloads of PHP 7.3.0 Alpha 2 please visit thedownload page.\n      Windows sources and binaries can be found onwindows.php.net/qa/.Please carefully test this version and report any issues found in thebug reporting system.THIS IS A DEVELOPMENT PREVIEW - DO NOT USE IT IN PRODUCTION!For more information on the new features and other changes, you can read theNEWSfile,\n      or theUPGRADINGfile for a complete list of upgrading notes. These files can also be found in the release archive.The next release would be Alpha 3, planned for July 5.The signatures for the release can be found inthe manifestor onthe QA site.Thank you for helping us make PHP better.07 Jun 2018PHP 7.3.0 alpha 1 ReleasedPHP team is glad to announce the release of the first PHP 7.3.0 version, PHP 7.3.0 Alpha 1.\n\t This starts the PHP 7.3 release cycle, the rough outline of which is specified in thePHP Wiki.For source downloads of PHP 7.3.0 Alpha 1 please visit thedownload page.Please carefully test this version and report any issues found in thebug reporting system.Please DO NOT use this version in production, it is an early test version.For more information on the new features and other changes, you can read theNEWSfile,\n\t     or theUPGRADINGfile for a complete list of upgrading notes. These files can also be found in the release archive.The next release would be Alpha 2, planned for June 21.The signatures for the release can be found inthe manifestor onthe QA site.Thank you for helping us make PHP better.01 Feb 2018PHP 7.2.2 ReleasedThe PHP development team announces the immediate availability of PHP\n      7.2.2. This is a bugfix release, with several bug fixes included.All PHP 7.2 users are encouraged to upgrade to this version.For source downloads of PHP 7.2.2 please visit ourdownloads page,\n      Windows source and binaries can be found onwindows.php.net/download/.\n      The list of changes is recorded in theChangeLog.12 Oct 2017PHP 7.2.0 Release Candidate 4 ReleasedThe PHP development team announces the immediate availability of PHP 7.2.0 RC4.\n     This release is the fourth Release Candidate for 7.2.0.\n     All users of PHP are encouraged to test this version carefully, and report any bugs\n     and incompatibilities in thebug tracking system.THIS IS A DEVELOPMENT PREVIEW - DO NOT USE IT IN PRODUCTION!For more information on the new features and other changes, you can read theNEWSfile,\n     or theUPGRADINGfile for a complete list of upgrading notes. These files can also be found in the release archive.For source downloads of PHP 7.2.0 Release Candidate 4 please visit thedownloadpage,\n     Windows sources and binaries can be found atwindows.php.net/qa/.The next Release Candidate will be announced on the 26th of October.\n     You can also read the full list of planned releases onour wiki.Thank you for helping us make PHP better.28 Sep 2017PHP 7.2.0 Release Candidate 3 ReleasedThe PHP development team announces the immediate availability of PHP 7.2.0 RC3.\n     This release is the third Release Candidate for 7.2.0.\n     All users of PHP are encouraged to test this version carefully, and report any bugs\n     and incompatibilities in thebug tracking system.THIS IS A DEVELOPMENT PREVIEW - DO NOT USE IT IN PRODUCTION!For more information on the new features and other changes, you can read theNEWSfile,\n     or theUPGRADINGfile for a complete list of upgrading notes. These files can also be found in the release archive.For source downloads of PHP 7.2.0 Release Candidate 3 please visit thedownloadpage,\n     Windows sources and binaries can be found atwindows.php.net/qa/.The next Release Candidate will be announced on the 12th of October.\n     You can also read the full list of planned releases onour wiki.Thank you for helping us make PHP better.31 Aug 2017PHP 7.2.0 Release Candidate 1 ReleasedThe PHP development team announces the immediate availability of PHP 7.2.0 Release\n      Candidate 1. This release is the first Release Candidate for 7.2.0.\n      All users of PHP are encouraged to test this version carefully, and report any bugs\n      and incompatibilities in thebug tracking system.THIS IS A DEVELOPMENT PREVIEW - DO NOT USE IT IN PRODUCTION!For more information on the new features and other changes, you can read theNEWSfile,\n      or theUPGRADINGfile for a complete list of upgrading notes. These files can also be found in the release archive.For source downloads of PHP 7.2.0 Release Candidate 1 please visit thedownloadpage,\n      Windows sources and binaries can be found atwindows.php.net/qa/.The second Release Candidate will be released on the 14th of September.\n      You can also read the full list of planned releases onour wiki.Thank you for helping us make PHP better.17 Aug 2017PHP 7.2.0 Beta 3 ReleasedThe PHP development team announces the immediate availability of PHP 7.2.0 Beta 3.\n      This release is the third and final beta for 7.2.0. All users of PHP are encouraged\n      to test this version carefully, and report any bugs and incompatibilities in thebug tracking system.THIS IS A DEVELOPMENT PREVIEW - DO NOT USE IT IN PRODUCTION!For more information on the new features and other changes, you can read theNEWSfile,\n      or theUPGRADINGfile for a complete list of upgrading notes. These files can also be found in the release archive.For source downloads of PHP 7.2.0 Beta 3 please visit thedownloadpage,\n      Windows sources and binaries can be found atwindows.php.net/qa/.The first Release Candidate will be released on the 31th of August.\n      You can also read the full list of planned releases onour wiki.Thank you for helping us make PHP better.06 Jul 2017PHP 7.2.0 Alpha 3 ReleasedThe PHP development team announces the immediate availability of PHP 7.2.0 Alpha 3.\n     This release contains fixes and improvements relative to Alpha 2.\n     All users of PHP are encouraged to test this version carefully,\n     and report any bugs and incompatibilities in thebug tracking system.THIS IS A DEVELOPMENT PREVIEW - DO NOT USE IT IN PRODUCTION!For information on new features and other changes, you can read theNEWSfile,\n     or theUPGRADINGfile\n     for a complete list of upgrading notes. These files can also be found in the release archive.For source downloads of PHP 7.2.0 Alpha 3 please visit thedownloadpage,\n     Windows sources and binaries can be found onwindows.php.net/qa/.The first beta will be released on the 20th of July. You can also read the full list of planned releases on ourwiki.Thank you for helping us make PHP better.Older News EntriesUpcoming conferencesInternational PHP Conference Munich 2020International PHP Conference Berlin 2020PHP.RUHR 2020 - Web Development & Digital CommerceUser Group EventsSpecial ThanksSocial media@official_phpCopyright © 2001-2020 The PHP GroupMy PHP.netContactOther PHP.net sitesPrivacy policy\n"
    }
   ],
   "source": [
    "from bs4 import BeautifulSoup\n",
    "import urllib.request\n",
    "response = urllib.request.urlopen('http://php.net/')\n",
    "html = response.read()\n",
    "#print(html)\n",
    "soup = BeautifulSoup(html, 'html.parser')\n",
    "text = soup.get_text(strip = True)\n",
    "print(text)\n"
   ]
  },
  {
   "cell_type": "code",
   "execution_count": 13,
   "metadata": {
    "tags": [
     "outputPrepend"
    ]
   },
   "outputs": [
    {
     "output_type": "stream",
     "name": "stdout",
     "text": "es', 'found', 'in', 'thebug', 'reporting', 'system.THIS', 'IS', 'A', 'DEVELOPMENT', 'PREVIEW', '-', 'DO', 'NOT', 'USE', 'IT', 'IN', 'PRODUCTION!For', 'more', 'information', 'on', 'the', 'new', 'features', 'and', 'other', 'changes,', 'you', 'can', 'read', 'theNEWSfile,', 'or', 'theUPGRADINGfile', 'for', 'a', 'complete', 'list', 'of', 'upgrading', 'notes.', 'Internal', 'changes', 'are', 'listed', 'in', 'theUPGRADING.INTERNALSfile.', 'These', 'files', 'can', 'also', 'be', 'found', 'in', 'the', 'release', 'archive.The', 'next', 'release', 'would', 'be', 'RC4,', 'planned', 'for', 'October', '25th.The', 'signatures', 'for', 'the', 'release', 'can', 'be', 'found', 'inthe', 'manifestor', 'onthe', 'QA', 'site.Thank', 'you', 'for', 'helping', 'us', 'make', 'PHP', 'better.28', 'Sep', '2018PHP', '7.3.0RC2', 'ReleasedThe', 'PHP', 'team', 'is', 'glad', 'to', 'announce', 'the', 'next', 'PHP', '7.3.0', 'pre-release,', 'PHP', '7.3.0RC2.', 'The', 'rough', 'outline', 'of', 'the', 'PHP', '7.3', 'release', 'cycle', 'is', 'specified', 'in', 'thePHP', 'Wiki.For', 'source', 'downloads', 'of', 'PHP', '7.3.0RC2', 'please', 'visit', 'thedownload', 'page.', 'Windows', 'sources', 'and', 'binaries', 'can', 'be', 'found', 'onwindows.php.net/qa/.Please', 'carefully', 'test', 'this', 'version', 'and', 'report', 'any', 'issues', 'found', 'in', 'thebug', 'reporting', 'system.THIS', 'IS', 'A', 'DEVELOPMENT', 'PREVIEW', '-', 'DO', 'NOT', 'USE', 'IT', 'IN', 'PRODUCTION!For', 'more', 'information', 'on', 'the', 'new', 'features', 'and', 'other', 'changes,', 'you', 'can', 'read', 'theNEWSfile,', 'or', 'theUPGRADINGfile', 'for', 'a', 'complete', 'list', 'of', 'upgrading', 'notes.', 'Internal', 'changes', 'are', 'listed', 'in', 'theUPGRADING.INTERNALSfile.', 'These', 'files', 'can', 'also', 'be', 'found', 'in', 'the', 'release', 'archive.The', 'next', 'release', 'would', 'be', 'RC3,', 'planned', 'for', 'October', '11th.The', 'signatures', 'for', 'the', 'release', 'can', 'be', 'found', 'inthe', 'manifestor', 'onthe', 'QA', 'site.Thank', 'you', 'for', 'helping', 'us', 'make', 'PHP', 'better.13', 'Sep', '2018PHP', '7.3.0RC1', 'ReleasedThe', 'PHP', 'team', 'is', 'glad', 'to', 'announce', 'the', 'release', 'of', 'the', 'next', 'PHP', '7.3.0', 'pre-release,', 'PHP', '7.3.0RC1.', 'The', 'rough', 'outline', 'of', 'the', 'PHP', '7.3', 'release', 'cycle', 'is', 'specified', 'in', 'thePHP', 'Wiki.For', 'source', 'downloads', 'of', 'PHP', '7.3.0RC1', 'please', 'visit', 'thedownload', 'page.', 'Windows', 'sources', 'and', 'binaries', 'can', 'be', 'found', 'onwindows.php.net/qa/.Please', 'carefully', 'test', 'this', 'version', 'and', 'report', 'any', 'issues', 'found', 'in', 'thebug', 'reporting', 'system.THIS', 'IS', 'A', 'DEVELOPMENT', 'PREVIEW', '-', 'DO', 'NOT', 'USE', 'IT', 'IN', 'PRODUCTION!For', 'more', 'information', 'on', 'the', 'new', 'features', 'and', 'other', 'changes,', 'you', 'can', 'read', 'theNEWSfile,', 'or', 'theUPGRADINGfile', 'for', 'a', 'complete', 'list', 'of', 'upgrading', 'notes.', 'Internal', 'changes', 'are', 'listed', 'in', 'theUPGRADING.INTERNALSfile.', 'These', 'files', 'can', 'also', 'be', 'found', 'in', 'the', 'release', 'archive.The', 'next', 'release', 'would', 'be', 'RC2,', 'planned', 'for', 'September', '27th.The', 'signatures', 'for', 'the', 'release', 'can', 'be', 'found', 'inthe', 'manifestor', 'onthe', 'QA', 'site.Thank', 'you', 'for', 'helping', 'us', 'make', 'PHP', 'better.30', 'Aug', '2018PHP', '7.3.0.beta3', 'ReleasedThe', 'PHP', 'team', 'is', 'glad', 'to', 'announce', 'the', 'release', 'of', 'the', 'seventh', 'PHP', '7.3.0', 'version,', 'PHP', '7.3.0beta3.', 'The', 'rough', 'outline', 'of', 'the', 'PHP', '7.3', 'release', 'cycle', 'is', 'specified', 'in', 'thePHP', 'Wiki.For', 'source', 'downloads', 'of', 'PHP', '7.3.0beta3', 'please', 'visit', 'thedownload', 'page.', 'Windows', 'sources', 'and', 'binaries', 'can', 'be', 'found', 'onwindows.php.net/qa/.Please', 'carefully', 'test', 'this', 'version', 'and', 'report', 'any', 'issues', 'found', 'in', 'thebug', 'reporting', 'system.THIS', 'IS', 'A', 'DEVELOPMENT', 'PREVIEW', '-', 'DO', 'NOT', 'USE', 'IT', 'IN', 'PRODUCTION!For', 'more', 'information', 'on', 'the', 'new', 'features', 'and', 'other', 'changes,', 'you', 'can', 'read', 'theNEWSfile,', 'or', 'theUPGRADINGfile', 'for', 'a', 'complete', 'list', 'of', 'upgrading', 'notes.', 'Internal', 'changes', 'are', 'listed', 'in', 'theUPGRADING.INTERNALSfile.', 'These', 'files', 'can', 'also', 'be', 'found', 'in', 'the', 'release', 'archive.The', 'next', 'release', 'would', 'be', 'RC1,', 'planned', 'for', 'September', '13th.The', 'signatures', 'for', 'the', 'release', 'can', 'be', 'found', 'inthe', 'manifestor', 'onthe', 'QA', 'site.Thank', 'you', 'for', 'helping', 'us', 'make', 'PHP', 'better.16', 'Aug', '2018PHP', '7.3.0.beta2', 'ReleasedThe', 'PHP', 'team', 'is', 'glad', 'to', 'announce', 'the', 'release', 'of', 'the', 'sixth', 'PHP', '7.3.0', 'version,', 'PHP', '7.3.0beta2.', 'The', 'rough', 'outline', 'of', 'the', 'PHP', '7.3', 'release', 'cycle', 'is', 'specified', 'in', 'thePHP', 'Wiki.For', 'source', 'downloads', 'of', 'PHP', '7.3.0beta2', 'please', 'visit', 'thedownload', 'page.', 'Windows', 'sources', 'and', 'binaries', 'can', 'be', 'found', 'onwindows.php.net/qa/.Please', 'carefully', 'test', 'this', 'version', 'and', 'report', 'any', 'issues', 'found', 'in', 'thebug', 'reporting', 'system.THIS', 'IS', 'A', 'DEVELOPMENT', 'PREVIEW', '-', 'DO', 'NOT', 'USE', 'IT', 'IN', 'PRODUCTION!For', 'more', 'information', 'on', 'the', 'new', 'features', 'and', 'other', 'changes,', 'you', 'can', 'read', 'theNEWSfile,', 'or', 'theUPGRADINGfile', 'for', 'a', 'complete', 'list', 'of', 'upgrading', 'notes.', 'Internal', 'changes', 'are', 'listed', 'in', 'theUPGRADING.INTERNALSfile.', 'These', 'files', 'can', 'also', 'be', 'found', 'in', 'the', 'release', 'archive.The', 'next', 'release', 'would', 'be', 'Beta', '3,', 'planned', 'for', 'August', '30th.The', 'signatures', 'for', 'the', 'release', 'can', 'be', 'found', 'inthe', 'manifestor', 'onthe', 'QA', 'site.Thank', 'you', 'for', 'helping', 'us', 'make', 'PHP', 'better.02', 'Aug', '2018PHP', '7.3.0.beta1', 'ReleasedThe', 'PHP', 'team', 'is', 'glad', 'to', 'announce', 'the', 'release', 'of', 'the', 'fifth', 'PHP', '7.3.0', 'version,', 'PHP', '7.3.0beta1.', 'The', 'rough', 'outline', 'of', 'the', 'PHP', '7.3', 'release', 'cycle', 'is', 'specified', 'in', 'thePHP', 'Wiki.For', 'source', 'downloads', 'of', 'PHP', '7.3.0beta1', 'please', 'visit', 'thedownload', 'page.', 'Windows', 'sources', 'and', 'binaries', 'can', 'be', 'found', 'onwindows.php.net/qa/.Please', 'carefully', 'test', 'this', 'version', 'and', 'report', 'any', 'issues', 'found', 'in', 'thebug', 'reporting', 'system.THIS', 'IS', 'A', 'DEVELOPMENT', 'PREVIEW', '-', 'DO', 'NOT', 'USE', 'IT', 'IN', 'PRODUCTION!For', 'more', 'information', 'on', 'the', 'new', 'features', 'and', 'other', 'changes,', 'you', 'can', 'read', 'theNEWSfile,', 'or', 'theUPGRADINGfile', 'for', 'a', 'complete', 'list', 'of', 'upgrading', 'notes.', 'These', 'files', 'can', 'also', 'be', 'found', 'in', 'the', 'release', 'archive.The', 'next', 'release', 'would', 'be', 'Beta', '2,', 'planned', 'for', 'August', '16th.The', 'signatures', 'for', 'the', 'release', 'can', 'be', 'found', 'inthe', 'manifestor', 'onthe', 'QA', 'site.Thank', 'you', 'for', 'helping', 'us', 'make', 'PHP', 'better.19', 'Jul', '2018PHP', '7.3.0alpha4', 'ReleasedThe', 'PHP', 'team', 'is', 'glad', 'to', 'announce', 'the', 'release', 'of', 'the', 'fourth', 'PHP', '7.3.0', 'version,', 'PHP', '7.3.0alpha4.', 'The', 'rough', 'outline', 'of', 'the', 'PHP', '7.3', 'release', 'cycle', 'is', 'specified', 'in', 'thePHP', 'Wiki.For', 'source', 'downloads', 'of', 'PHP', '7.3.0alpha4', 'please', 'visit', 'thedownload', 'page.', 'Windows', 'sources', 'and', 'binaries', 'can', 'be', 'found', 'onwindows.php.net/qa/.Please', 'carefully', 'test', 'this', 'version', 'and', 'report', 'any', 'issues', 'found', 'in', 'thebug', 'reporting', 'system.THIS', 'IS', 'A', 'DEVELOPMENT', 'PREVIEW', '-', 'DO', 'NOT', 'USE', 'IT', 'IN', 'PRODUCTION!For', 'more', 'information', 'on', 'the', 'new', 'features', 'and', 'other', 'changes,', 'you', 'can', 'read', 'theNEWSfile,', 'or', 'theUPGRADINGfile', 'for', 'a', 'complete', 'list', 'of', 'upgrading', 'notes.', 'These', 'files', 'can', 'also', 'be', 'found', 'in', 'the', 'release', 'archive.The', 'next', 'release', 'would', 'be', 'Beta', '1,', 'planned', 'for', 'August', '2nd.The', 'signatures', 'for', 'the', 'release', 'can', 'be', 'found', 'inthe', 'manifestor', 'onthe', 'QA', 'site.Thank', 'you', 'for', 'helping', 'us', 'make', 'PHP', 'better.05', 'Jul', '2018PHP', '7.3.0', 'alpha', '3', 'ReleasedThe', 'PHP', 'team', 'is', 'glad', 'to', 'announce', 'the', 'release', 'of', 'the', 'third', 'PHP', '7.3.0', 'version,', 'PHP', '7.3.0', 'Alpha', '3.', 'The', 'rough', 'outline', 'of', 'the', 'PHP', '7.3', 'release', 'cycle', 'is', 'specified', 'in', 'thePHP', 'Wiki.For', 'source', 'downloads', 'of', 'PHP', '7.3.0', 'Alpha', '3', 'please', 'visit', 'thedownload', 'page.', 'Windows', 'sources', 'and', 'binaries', 'can', 'be', 'found', 'onwindows.php.net/qa/.Please', 'carefully', 'test', 'this', 'version', 'and', 'report', 'any', 'issues', 'found', 'in', 'thebug', 'reporting', 'system.THIS', 'IS', 'A', 'DEVELOPMENT', 'PREVIEW', '-', 'DO', 'NOT', 'USE', 'IT', 'IN', 'PRODUCTION!For', 'more', 'information', 'on', 'the', 'new', 'features', 'and', 'other', 'changes,', 'you', 'can', 'read', 'theNEWSfile,', 'or', 'theUPGRADINGfile', 'for', 'a', 'complete', 'list', 'of', 'upgrading', 'notes.', 'These', 'files', 'can', 'also', 'be', 'found', 'in', 'the', 'release', 'archive.The', 'next', 'release', 'would', 'be', 'Beta', '1,', 'planned', 'for', 'July', '19th.The', 'signatures', 'for', 'the', 'release', 'can', 'be', 'found', 'inthe', 'manifestor', 'onthe', 'QA', 'site.Thank', 'you', 'for', 'helping', 'us', 'make', 'PHP', 'better.21', 'Jun', '2018PHP', '7.3.0', 'alpha', '2', 'ReleasedThe', 'PHP', 'team', 'is', 'glad', 'to', 'announce', 'the', 'release', 'of', 'the', 'second', 'PHP', '7.3.0', 'version,', 'PHP', '7.3.0', 'Alpha', '2.', 'The', 'rough', 'outline', 'of', 'the', 'PHP', '7.3', 'release', 'cycle', 'is', 'specified', 'in', 'thePHP', 'Wiki.For', 'source', 'downloads', 'of', 'PHP', '7.3.0', 'Alpha', '2', 'please', 'visit', 'thedownload', 'page.', 'Windows', 'sources', 'and', 'binaries', 'can', 'be', 'found', 'onwindows.php.net/qa/.Please', 'carefully', 'test', 'this', 'version', 'and', 'report', 'any', 'issues', 'found', 'in', 'thebug', 'reporting', 'system.THIS', 'IS', 'A', 'DEVELOPMENT', 'PREVIEW', '-', 'DO', 'NOT', 'USE', 'IT', 'IN', 'PRODUCTION!For', 'more', 'information', 'on', 'the', 'new', 'features', 'and', 'other', 'changes,', 'you', 'can', 'read', 'theNEWSfile,', 'or', 'theUPGRADINGfile', 'for', 'a', 'complete', 'list', 'of', 'upgrading', 'notes.', 'These', 'files', 'can', 'also', 'be', 'found', 'in', 'the', 'release', 'archive.The', 'next', 'release', 'would', 'be', 'Alpha', '3,', 'planned', 'for', 'July', '5.The', 'signatures', 'for', 'the', 'release', 'can', 'be', 'found', 'inthe', 'manifestor', 'onthe', 'QA', 'site.Thank', 'you', 'for', 'helping', 'us', 'make', 'PHP', 'better.07', 'Jun', '2018PHP', '7.3.0', 'alpha', '1', 'ReleasedPHP', 'team', 'is', 'glad', 'to', 'announce', 'the', 'release', 'of', 'the', 'first', 'PHP', '7.3.0', 'version,', 'PHP', '7.3.0', 'Alpha', '1.', 'This', 'starts', 'the', 'PHP', '7.3', 'release', 'cycle,', 'the', 'rough', 'outline', 'of', 'which', 'is', 'specified', 'in', 'thePHP', 'Wiki.For', 'source', 'downloads', 'of', 'PHP', '7.3.0', 'Alpha', '1', 'please', 'visit', 'thedownload', 'page.Please', 'carefully', 'test', 'this', 'version', 'and', 'report', 'any', 'issues', 'found', 'in', 'thebug', 'reporting', 'system.Please', 'DO', 'NOT', 'use', 'this', 'version', 'in', 'production,', 'it', 'is', 'an', 'early', 'test', 'version.For', 'more', 'information', 'on', 'the', 'new', 'features', 'and', 'other', 'changes,', 'you', 'can', 'read', 'theNEWSfile,', 'or', 'theUPGRADINGfile', 'for', 'a', 'complete', 'list', 'of', 'upgrading', 'notes.', 'These', 'files', 'can', 'also', 'be', 'found', 'in', 'the', 'release', 'archive.The', 'next', 'release', 'would', 'be', 'Alpha', '2,', 'planned', 'for', 'June', '21.The', 'signatures', 'for', 'the', 'release', 'can', 'be', 'found', 'inthe', 'manifestor', 'onthe', 'QA', 'site.Thank', 'you', 'for', 'helping', 'us', 'make', 'PHP', 'better.01', 'Feb', '2018PHP', '7.2.2', 'ReleasedThe', 'PHP', 'development', 'team', 'announces', 'the', 'immediate', 'availability', 'of', 'PHP', '7.2.2.', 'This', 'is', 'a', 'bugfix', 'release,', 'with', 'several', 'bug', 'fixes', 'included.All', 'PHP', '7.2', 'users', 'are', 'encouraged', 'to', 'upgrade', 'to', 'this', 'version.For', 'source', 'downloads', 'of', 'PHP', '7.2.2', 'please', 'visit', 'ourdownloads', 'page,', 'Windows', 'source', 'and', 'binaries', 'can', 'be', 'found', 'onwindows.php.net/download/.', 'The', 'list', 'of', 'changes', 'is', 'recorded', 'in', 'theChangeLog.12', 'Oct', '2017PHP', '7.2.0', 'Release', 'Candidate', '4', 'ReleasedThe', 'PHP', 'development', 'team', 'announces', 'the', 'immediate', 'availability', 'of', 'PHP', '7.2.0', 'RC4.', 'This', 'release', 'is', 'the', 'fourth', 'Release', 'Candidate', 'for', '7.2.0.', 'All', 'users', 'of', 'PHP', 'are', 'encouraged', 'to', 'test', 'this', 'version', 'carefully,', 'and', 'report', 'any', 'bugs', 'and', 'incompatibilities', 'in', 'thebug', 'tracking', 'system.THIS', 'IS', 'A', 'DEVELOPMENT', 'PREVIEW', '-', 'DO', 'NOT', 'USE', 'IT', 'IN', 'PRODUCTION!For', 'more', 'information', 'on', 'the', 'new', 'features', 'and', 'other', 'changes,', 'you', 'can', 'read', 'theNEWSfile,', 'or', 'theUPGRADINGfile', 'for', 'a', 'complete', 'list', 'of', 'upgrading', 'notes.', 'These', 'files', 'can', 'also', 'be', 'found', 'in', 'the', 'release', 'archive.For', 'source', 'downloads', 'of', 'PHP', '7.2.0', 'Release', 'Candidate', '4', 'please', 'visit', 'thedownloadpage,', 'Windows', 'sources', 'and', 'binaries', 'can', 'be', 'found', 'atwindows.php.net/qa/.The', 'next', 'Release', 'Candidate', 'will', 'be', 'announced', 'on', 'the', '26th', 'of', 'October.', 'You', 'can', 'also', 'read', 'the', 'full', 'list', 'of', 'planned', 'releases', 'onour', 'wiki.Thank', 'you', 'for', 'helping', 'us', 'make', 'PHP', 'better.28', 'Sep', '2017PHP', '7.2.0', 'Release', 'Candidate', '3', 'ReleasedThe', 'PHP', 'development', 'team', 'announces', 'the', 'immediate', 'availability', 'of', 'PHP', '7.2.0', 'RC3.', 'This', 'release', 'is', 'the', 'third', 'Release', 'Candidate', 'for', '7.2.0.', 'All', 'users', 'of', 'PHP', 'are', 'encouraged', 'to', 'test', 'this', 'version', 'carefully,', 'and', 'report', 'any', 'bugs', 'and', 'incompatibilities', 'in', 'thebug', 'tracking', 'system.THIS', 'IS', 'A', 'DEVELOPMENT', 'PREVIEW', '-', 'DO', 'NOT', 'USE', 'IT', 'IN', 'PRODUCTION!For', 'more', 'information', 'on', 'the', 'new', 'features', 'and', 'other', 'changes,', 'you', 'can', 'read', 'theNEWSfile,', 'or', 'theUPGRADINGfile', 'for', 'a', 'complete', 'list', 'of', 'upgrading', 'notes.', 'These', 'files', 'can', 'also', 'be', 'found', 'in', 'the', 'release', 'archive.For', 'source', 'downloads', 'of', 'PHP', '7.2.0', 'Release', 'Candidate', '3', 'please', 'visit', 'thedownloadpage,', 'Windows', 'sources', 'and', 'binaries', 'can', 'be', 'found', 'atwindows.php.net/qa/.The', 'next', 'Release', 'Candidate', 'will', 'be', 'announced', 'on', 'the', '12th', 'of', 'October.', 'You', 'can', 'also', 'read', 'the', 'full', 'list', 'of', 'planned', 'releases', 'onour', 'wiki.Thank', 'you', 'for', 'helping', 'us', 'make', 'PHP', 'better.31', 'Aug', '2017PHP', '7.2.0', 'Release', 'Candidate', '1', 'ReleasedThe', 'PHP', 'development', 'team', 'announces', 'the', 'immediate', 'availability', 'of', 'PHP', '7.2.0', 'Release', 'Candidate', '1.', 'This', 'release', 'is', 'the', 'first', 'Release', 'Candidate', 'for', '7.2.0.', 'All', 'users', 'of', 'PHP', 'are', 'encouraged', 'to', 'test', 'this', 'version', 'carefully,', 'and', 'report', 'any', 'bugs', 'and', 'incompatibilities', 'in', 'thebug', 'tracking', 'system.THIS', 'IS', 'A', 'DEVELOPMENT', 'PREVIEW', '-', 'DO', 'NOT', 'USE', 'IT', 'IN', 'PRODUCTION!For', 'more', 'information', 'on', 'the', 'new', 'features', 'and', 'other', 'changes,', 'you', 'can', 'read', 'theNEWSfile,', 'or', 'theUPGRADINGfile', 'for', 'a', 'complete', 'list', 'of', 'upgrading', 'notes.', 'These', 'files', 'can', 'also', 'be', 'found', 'in', 'the', 'release', 'archive.For', 'source', 'downloads', 'of', 'PHP', '7.2.0', 'Release', 'Candidate', '1', 'please', 'visit', 'thedownloadpage,', 'Windows', 'sources', 'and', 'binaries', 'can', 'be', 'found', 'atwindows.php.net/qa/.The', 'second', 'Release', 'Candidate', 'will', 'be', 'released', 'on', 'the', '14th', 'of', 'September.', 'You', 'can', 'also', 'read', 'the', 'full', 'list', 'of', 'planned', 'releases', 'onour', 'wiki.Thank', 'you', 'for', 'helping', 'us', 'make', 'PHP', 'better.17', 'Aug', '2017PHP', '7.2.0', 'Beta', '3', 'ReleasedThe', 'PHP', 'development', 'team', 'announces', 'the', 'immediate', 'availability', 'of', 'PHP', '7.2.0', 'Beta', '3.', 'This', 'release', 'is', 'the', 'third', 'and', 'final', 'beta', 'for', '7.2.0.', 'All', 'users', 'of', 'PHP', 'are', 'encouraged', 'to', 'test', 'this', 'version', 'carefully,', 'and', 'report', 'any', 'bugs', 'and', 'incompatibilities', 'in', 'thebug', 'tracking', 'system.THIS', 'IS', 'A', 'DEVELOPMENT', 'PREVIEW', '-', 'DO', 'NOT', 'USE', 'IT', 'IN', 'PRODUCTION!For', 'more', 'information', 'on', 'the', 'new', 'features', 'and', 'other', 'changes,', 'you', 'can', 'read', 'theNEWSfile,', 'or', 'theUPGRADINGfile', 'for', 'a', 'complete', 'list', 'of', 'upgrading', 'notes.', 'These', 'files', 'can', 'also', 'be', 'found', 'in', 'the', 'release', 'archive.For', 'source', 'downloads', 'of', 'PHP', '7.2.0', 'Beta', '3', 'please', 'visit', 'thedownloadpage,', 'Windows', 'sources', 'and', 'binaries', 'can', 'be', 'found', 'atwindows.php.net/qa/.The', 'first', 'Release', 'Candidate', 'will', 'be', 'released', 'on', 'the', '31th', 'of', 'August.', 'You', 'can', 'also', 'read', 'the', 'full', 'list', 'of', 'planned', 'releases', 'onour', 'wiki.Thank', 'you', 'for', 'helping', 'us', 'make', 'PHP', 'better.06', 'Jul', '2017PHP', '7.2.0', 'Alpha', '3', 'ReleasedThe', 'PHP', 'development', 'team', 'announces', 'the', 'immediate', 'availability', 'of', 'PHP', '7.2.0', 'Alpha', '3.', 'This', 'release', 'contains', 'fixes', 'and', 'improvements', 'relative', 'to', 'Alpha', '2.', 'All', 'users', 'of', 'PHP', 'are', 'encouraged', 'to', 'test', 'this', 'version', 'carefully,', 'and', 'report', 'any', 'bugs', 'and', 'incompatibilities', 'in', 'thebug', 'tracking', 'system.THIS', 'IS', 'A', 'DEVELOPMENT', 'PREVIEW', '-', 'DO', 'NOT', 'USE', 'IT', 'IN', 'PRODUCTION!For', 'information', 'on', 'new', 'features', 'and', 'other', 'changes,', 'you', 'can', 'read', 'theNEWSfile,', 'or', 'theUPGRADINGfile', 'for', 'a', 'complete', 'list', 'of', 'upgrading', 'notes.', 'These', 'files', 'can', 'also', 'be', 'found', 'in', 'the', 'release', 'archive.For', 'source', 'downloads', 'of', 'PHP', '7.2.0', 'Alpha', '3', 'please', 'visit', 'thedownloadpage,', 'Windows', 'sources', 'and', 'binaries', 'can', 'be', 'found', 'onwindows.php.net/qa/.The', 'first', 'beta', 'will', 'be', 'released', 'on', 'the', '20th', 'of', 'July.', 'You', 'can', 'also', 'read', 'the', 'full', 'list', 'of', 'planned', 'releases', 'on', 'ourwiki.Thank', 'you', 'for', 'helping', 'us', 'make', 'PHP', 'better.Older', 'News', 'EntriesUpcoming', 'conferencesInternational', 'PHP', 'Conference', 'Munich', '2020International', 'PHP', 'Conference', 'Berlin', '2020PHP.RUHR', '2020', '-', 'Web', 'Development', '&', 'Digital', 'CommerceUser', 'Group', 'EventsSpecial', 'ThanksSocial', 'media@official_phpCopyright', '©', '2001-2020', 'The', 'PHP', 'GroupMy', 'PHP.netContactOther', 'PHP.net', 'sitesPrivacy', 'policy']\n"
    }
   ],
   "source": [
    "from bs4 import BeautifulSoup\n",
    "import urllib.request\n",
    "response = urllib.request.urlopen('http://php.net/')\n",
    "html = response.read()\n",
    "soup = BeautifulSoup(html, 'html.parser')\n",
    "text = soup.get_text(strip = True)\n",
    "tokens = [t for t in text.split()]\n",
    "print(tokens)"
   ]
  },
  {
   "cell_type": "markdown",
   "metadata": {},
   "source": [
    "# Tokenization using NLTK"
   ]
  },
  {
   "cell_type": "code",
   "execution_count": 29,
   "metadata": {
    "tags": []
   },
   "outputs": [
    {
     "output_type": "stream",
     "name": "stdout",
     "text": "['Hello Mr. Adam, how are you?', 'I hope everything is going well.', 'Today is a good day, see you dude.']\n"
    }
   ],
   "source": [
    "from nltk.tokenize import sent_tokenize\n",
    "mytext = 'Hello Mr. Adam, how are you? I hope everything is going well. Today is a good day, see you dude.'\n",
    "print(sent_tokenize(mytext))"
   ]
  },
  {
   "cell_type": "code",
   "execution_count": 28,
   "metadata": {
    "tags": []
   },
   "outputs": [
    {
     "output_type": "stream",
     "name": "stdout",
     "text": "['Hello', 'Mr.', 'Adam', ',', 'how', 'are', 'you', '?', 'I', 'hope', 'everything', 'is', 'going', 'well', '.', 'Today', 'is', 'a', 'good', 'day', ',', 'see', 'you', 'dude', '.']\n"
    }
   ],
   "source": [
    "from nltk.tokenize import word_tokenize\n",
    "mytext = 'Hello Mr. Adam, how are you? I hope everything is going well. Today is a good day, see you dude.'\n",
    "print(word_tokenize(mytext))"
   ]
  },
  {
   "cell_type": "markdown",
   "metadata": {},
   "source": [
    "# Tokenize non english "
   ]
  },
  {
   "cell_type": "code",
   "execution_count": 47,
   "metadata": {
    "tags": []
   },
   "outputs": [
    {
     "output_type": "stream",
     "name": "stdout",
     "text": "['Bonjour M. Adam, comment allez-vous?', 'J’espère que tout va bien.', 'Aujourd’hui est un bon jour.']\n"
    }
   ],
   "source": [
    "from nltk.tokenize import sent_tokenize\n",
    "mytext = 'Bonjour M. Adam, comment allez-vous? J’espère que tout va bien. Aujourd’hui est un bon jour.'\n",
    "print(sent_tokenize(mytext,'french'))"
   ]
  },
  {
   "cell_type": "markdown",
   "metadata": {},
   "source": [
    "# Remove stop words"
   ]
  },
  {
   "cell_type": "code",
   "execution_count": 81,
   "metadata": {
    "tags": []
   },
   "outputs": [
    {
     "output_type": "stream",
     "name": "stdout",
     "text": "['NLTK', 'leading', 'platform', 'building', 'Python', 'programs', 'work', 'human', 'language', 'data', '.']\n"
    }
   ],
   "source": [
    "from nltk.tokenize import word_tokenize\n",
    "from nltk.corpus import stopwords\n",
    "\n",
    "str1 = 'NLTK is a leading platform for building Python programs to work with human language data.'\n",
    "\n",
    "stop_words = set(stopwords.words('english'))\n",
    "\n",
    "tokens = word_tokenize(str1)\n",
    "result = [i for i in tokens if not i in stop_words]\n",
    "print(result)\n"
   ]
  },
  {
   "cell_type": "markdown",
   "metadata": {},
   "source": [
    "# Stemming using NLTK "
   ]
  },
  {
   "cell_type": "code",
   "execution_count": 63,
   "metadata": {
    "tags": []
   },
   "outputs": [
    {
     "output_type": "stream",
     "name": "stdout",
     "text": "there are sever type of stem algorithm ."
    }
   ],
   "source": [
    "from nltk.stem import PorterStemmer\n",
    "from nltk.tokenize import word_tokenize\n",
    "\n",
    "stemmer = PorterStemmer()\n",
    "str1 = 'There are several types of stemming algorithms.'\n",
    "str1 = word_tokenize(str1)\n",
    "\n",
    "for word in str1:\n",
    "    print(stemmer.stem(word), end = ' ')\n"
   ]
  },
  {
   "cell_type": "markdown",
   "metadata": {},
   "source": [
    "# Lemmatization using NLTK"
   ]
  },
  {
   "cell_type": "code",
   "execution_count": 70,
   "metadata": {
    "tags": []
   },
   "outputs": [
    {
     "output_type": "stream",
     "name": "stdout",
     "text": "been had done language city mouse"
    }
   ],
   "source": [
    "from nltk.stem import WordNetLemmatizer\n",
    "from nltk.tokenize import word_tokenize\n",
    "\n",
    "lemmatizer = WordNetLemmatizer()\n",
    "str1 = 'been had done languages cities mice'\n",
    "str1 = word_tokenize(str1)\n",
    "\n",
    "for word in str1:\n",
    "    print(lemmatizer.lemmatize(word), end=' ')"
   ]
  },
  {
   "cell_type": "markdown",
   "metadata": {},
   "source": [
    "# Count word frequency"
   ]
  },
  {
   "cell_type": "code",
   "execution_count": 74,
   "metadata": {
    "tags": []
   },
   "outputs": [
    {
     "output_type": "stream",
     "name": "stdout",
     "text": "PHP::1\nHypertext:1\nPreprocessorDownloadsDocumentationGet:1\nInvolvedHelpGetting:1\nStartedIntroductionA:1\nsimple:1\ntutorialLanguage:1\nReferenceBasic:1\nsyntaxTypesVariablesConstantsExpressionsOperatorsControl:1\nStructuresFunctionsClasses:1\nand:109\nObjectsNamespacesErrorsExceptionsGeneratorsReferences:1\nExplainedPredefined:1\nVariablesPredefined:1\nExceptionsPredefined:1\nInterfaces:1\nClassesContext:1\noptions:1\nparametersSupported:1\nProtocols:1\nWrappersSecurityIntroductionGeneral:1\nconsiderationsInstalled:1\nas:2\nCGI:1\nbinaryInstalled:1\nan:20\nApache:1\nmoduleSession:1\nSecurityFilesystem:1\nSecurityDatabase:1\nSecurityError:1\nReportingUsing:1\nRegister:1\nGlobalsUser:1\nSubmitted:1\nDataMagic:1\nQuotesHiding:1\nPHPKeeping:1\nCurrentFeaturesHTTP:1\nauthentication:1\nwith:3\nPHPCookiesSessionsDealing:1\nXFormsHandling:1\nfile:1\nuploadsUsing:1\nremote:1\nfilesConnection:1\nhandlingPersistent:1\nDatabase:1\nConnectionsSafe:1\nModeCommand:1\nline:1\nusageGarbage:1\nCollectionDTrace:1\nDynamic:1\nTracingFunction:1\nReferenceAffecting:1\nPHP's:1\nBehaviourAudio:1\nFormats:1\nManipulationAuthentication:1\nServicesCommand:1\nLine:1\nSpecific:2\nExtensionsCompression:1\nArchive:1\nExtensionsCredit:1\nCard:1\nProcessingCryptography:1\nExtensionsDatabase:1\nExtensionsDate:1\nTime:1\nRelated:4\nExtensionsFile:1\nSystem:1\nExtensionsHuman:1\nLanguage:1\nCharacter:1\nEncoding:1\nSupportImage:1\nProcessing:1\nGenerationMail:1\nExtensionsMathematical:1\nExtensionsNon-Text:1\nMIME:1\nOutputProcess:1\nControl:1\nExtensionsOther:2\nBasic:1\nServicesSearch:1\nEngine:1\nExtensionsServer:1\nExtensionsSession:1\nExtensionsText:1\nProcessingVariable:1\nType:1\nExtensionsWeb:1\nServicesWindows:1\nOnly:1\nExtensionsXML:1\nManipulationGUI:1\nExtensionsKeyboard:1\nShortcuts?This:1\nhelpjNext:1\nmenu:2\nitemkPrevious:1\nitemg:1\npPrevious:1\nman:2\npageg:1\nnNext:1\npageGScroll:1\nto:51\nbottomg:1\ngScroll:1\ntopg:1\nhGoto:1\nhomepageg:1\nsGoto:1\nsearch(current:1\npage)/Focus:1\nsearch:1\nboxPHP:1\nis:96\na:46\npopular:2\ngeneral-purpose:1\nscripting:1\nlanguage:1\nthat:2\nespecially:1\nsuited:1\nweb:1\ndevelopment.Fast,:1\nflexible:1\npragmatic,:1\nPHP:218\npowers:1\neverything:1\nfrom:2\nyour:1\nblog:1\nthe:204\nmost:1\nwebsites:1\nin:126\nworld.Download7.4.8·Release:1\nNotes·Upgrading7.3.20·Release:1\nNotes·Upgrading7.2.32·Release:1\nNotes·Upgrading23:1\nJul:12\n2020PHP:9\n8.0.0:6\nAlpha:31\n3:12\navailable:3\nfor:129\ntestingThe:3\nteam:40\npleased:3\nannounce:28\nsecond:7\ntesting:3\nrelease:155\nof:161\n8.0.0,:3\n3.:5\nThis:28\ncontinues:13\n8.0:3\ncycle,:16\nrough:28\noutline:28\nwhich:17\nspecified:28\nthePHP:28\nWiki.For:22\nsource:47\ndownloads:40\nplease:40\nvisit:40\nthedownload:28\npage.Please:16\ncarefully:28\ntest:49\nthis:61\nversion:52\nreport:33\nany:33\nissues:28\nfound:113\nthebug:33\nreporting:28\nsystem.Please:10\nDO:33\nNOT:33\nuse:16\nproduction,:16\nit:16\nearly:16\nversion.For:22\nmore:32\ninformation:33\non:39\nnew:33\nfeatures:33\nother:36\nchanges,:33\nyou:66\ncan:123\nread:38\ntheNEWSfile,:33\nor:33\ntheUPGRADINGfile:33\ncomplete:33\nlist:45\nupgrading:33\nnotes.:33\nThese:33\nfiles:33\nalso:39\nbe:108\narchive.The:28\nnext:35\nwill:8\nBeta:8\n1,:5\nplanned:33\nAug:8\n06:1\n2020.The:3\nsignatures:28\ninthe:28\nmanifestor:28\nonthe:28\nQA:28\nsite.Thank:28\nhelping:33\nus:33\nmake:33\nbetter.09:1\n7.4.8:2\nReleased!The:10\ndevelopment:12\nannounces:12\nimmediate:12\navailability:12\n7.4.8.:1\nsecurity:4\nimpacting:3\ntheofficial:3\nWindows:27\nbuildsof:3\nPHP.For:3\nwindows:3\nusers:14\nrunning:3\nofficial:3\nbuild,:3\ncontains:5\npatched:3\noflibcurladdressingCVE-2020-8169.For:3\nall:3\nconsumers:3\nPHP,:3\nbug:6\nfix:4\nrelease.All:4\n7.4:15\nare:19\nencouraged:11\nupgrade:7\nourdownloads:7\npage,:7\nbinaries:24\nonwindows.php.net/download/.:7\nThe:20\nchanges:15\nrecorded:7\ntheChangeLog.09:3\n7.2.32:2\n7.2.32.:1\nfunctionally:1\nidentical:1\n7.2.31:1\nno:1\npoint:1\nnecessary.For:1\n7.3.20:2\n7.3.20.:1\n7.3:15\n2:6\n2.:4\n3,:5\n23:1\nbetter.25:3\nJun:7\n1:8\nfirst:8\n1.:4\nstarts:3\n2,:5\n9:1\nbetter.11:3\n7.4.7:2\n7.4.7.:1\ntheChangeLog.11:1\n7.3.19:2\nReleasedThe:19\n7.3.19.:1\ntheChangeLog.14:2\nMay:1\n7.4.6:2\n7.4.6.:1\nseveral:2\nfixes.All:1\nNov:3\n2019PHP:12\n7.4.0RC6:2\nglad:25\nsixth:2\ncandidate:6\n7.4::9\n7.4.0RC6.:1\nWiki.Please:6\nsystem.For:6\nwould:25\nbe7.4.0,:1\nNovember:4\n28th.The:1\nbetter.31:2\nOct:6\n7.4.0RC5:2\nreleased!The:4\nfifth:2\n7.4.0RC5.:1\nbe7.4.0RC6,:1\n14th.The:1\nbetter.18:1\n7.4.0RC4:2\nfourth:3\n7.4.0RC4.:1\nbe7.4.0RC5,:1\nOctober:5\n31st.The:1\nbetter.03:1\n7.4.0RC3:2\nthird:6\n7.4.0RC3.:1\nbe7.4.0RC4,:1\n17th.The:1\nbetter.19:2\nSep:5\n7.4.0RC2:2\n7.4.0RC2.:1\nbe7.4.0RC3,:1\n3rd.The:1\nbetter.05:2\n7.4.0RC1:2\n7.4.0RC1.:1\nbe7.4.0RC2,:1\nSeptember:4\n19th.The:2\nbetter.22:2\n7.4.0beta4:2\nlast:2\nbeta:5\n7.4.0beta4.:1\nbeRC:1\n5th.The:1\nbetter.08:2\n7.4.0beta2:2\n7.4.0beta2.:1\nbeBeta:3\nAugust:5\n22nd.The:2\n7.4.0beta1:2\n7.4.0beta1.:1\n8th.The:2\n7.4.0:12\nalpha:6\nReleasedPHP:4\nversion,:10\nJuly:4\n25th.The:2\nbetter.26:1\n11th.The:2\nbetter.13:2\nJune:2\n27.The:1\n2018PHP:14\n7.3.0RC6:2\npresumably:1\n7.3.0:23\npre-release,:6\n7.3.0RC6.:1\ncycle:12\npage.:12\nsources:17\nonwindows.php.net/qa/.Please:12\nsystem.THIS:17\nIS:17\nA:17\nDEVELOPMENT:17\nPREVIEW:17\n-:18\nUSE:17\nIT:17\nIN:17\nPRODUCTION!For:17\nInternal:8\nlisted:8\ntheUPGRADING.INTERNALSfile.:8\n(GA),:1\nDecember:1\n6th.The:1\n7.3.0RC5:2\n7.3.0RC5.:1\nRC6,:1\n7.3.0RC4:2\n7.3.0RC4.:1\nRC5,:1\n7.3.0RC3:2\n7.3.0RC3.:1\nRC4,:1\nbetter.28:2\n7.3.0RC2:2\n7.3.0RC2.:1\nRC3,:1\n7.3.0RC1:2\n7.3.0RC1.:1\nRC2,:1\n27th.The:1\nbetter.30:1\n7.3.0.beta3:1\nseventh:1\n7.3.0beta3.:1\n7.3.0beta3:1\nRC1,:1\n13th.The:1\nbetter.16:1\n7.3.0.beta2:1\n7.3.0beta2.:1\n7.3.0beta2:1\n30th.The:1\nbetter.02:1\n7.3.0.beta1:1\n7.3.0beta1.:1\n7.3.0beta1:1\n16th.The:1\n7.3.0alpha4:2\n7.3.0alpha4.:1\n2nd.The:1\nbetter.21:1\n5.The:1\nbetter.07:1\n21.The:1\nbetter.01:1\nFeb:1\n7.2.2:2\n7.2.2.:1\nbugfix:1\nrelease,:1\nfixes:2\nincluded.All:1\n7.2:1\ntheChangeLog.12:1\n2017PHP:5\n7.2.0:15\nRelease:14\nCandidate:14\n4:2\nRC4.:1\n7.2.0.:4\nAll:5\ncarefully,:5\nbugs:5\nincompatibilities:5\ntracking:5\narchive.For:5\nthedownloadpage,:5\natwindows.php.net/qa/.The:4\nannounced:2\n26th:1\nOctober.:2\nYou:5\nfull:5\nreleases:5\nonour:4\nwiki.Thank:4\nRC3.:1\n12th:1\nreleased:3\n14th:1\nSeptember.:1\nbetter.17:1\nfinal:1\n31th:1\nAugust.:1\nbetter.06:1\nimprovements:1\nrelative:1\nonwindows.php.net/qa/.The:1\n20th:1\nJuly.:1\nourwiki.Thank:1\nbetter.Older:1\nNews:1\nEntriesUpcoming:1\nconferencesInternational:1\nConference:2\nMunich:1\n2020International:1\nBerlin:1\n2020PHP.RUHR:1\n2020:1\nWeb:1\nDevelopment:1\n&:1\nDigital:1\nCommerceUser:1\nGroup:1\nEventsSpecial:1\nThanksSocial:1\nmedia@official_phpCopyright:1\n©:1\n2001-2020:1\nGroupMy:1\nPHP.netContactOther:1\nPHP.net:1\nsitesPrivacy:1\npolicy:1\n"
    }
   ],
   "source": [
    "from bs4 import BeautifulSoup\n",
    "import urllib.request\n",
    "import nltk\n",
    "response = urllib.request.urlopen('http://php.net/')\n",
    "html = response.read()\n",
    "soup = BeautifulSoup(html,'html.parser')\n",
    "text = soup.get_text(strip=True)\n",
    "tokens = [t for t in text.split()]\n",
    "freq = nltk.FreqDist(tokens)\n",
    "for key,val in freq.items():\n",
    "    print (str(key) + ':' + str(val))"
   ]
  },
  {
   "cell_type": "code",
   "execution_count": 78,
   "metadata": {},
   "outputs": [
    {
     "output_type": "display_data",
     "data": {
      "text/plain": "<Figure size 432x288 with 1 Axes>",
      "image/png": "[encoded data removed]"
     },
     "metadata": {
      "needs_background": "light"
     }
    },
    {
     "output_type": "execute_result",
     "data": {
      "text/plain": "<matplotlib.axes._subplots.AxesSubplot at 0x19c7caf0>"
     },
     "metadata": {},
     "execution_count": 78
    }
   ],
   "source": [
    "freq.plot(10, cumulative = False)"
   ]
  },
  {
   "cell_type": "markdown",
   "metadata": {},
   "source": [
    "# Parts of speech using TextBlob"
   ]
  },
  {
   "cell_type": "code",
   "execution_count": 84,
   "metadata": {
    "tags": []
   },
   "outputs": [
    {
     "output_type": "stream",
     "name": "stdout",
     "text": "[('Parts', 'NNS'), ('of', 'IN'), ('speech', 'NN'), ('examples', 'NNS'), ('an', 'DT'), ('article', 'NN'), ('to', 'TO'), ('write', 'VB'), ('interesting', 'VBG'), ('easily', 'RB'), ('and', 'CC'), ('of', 'IN')]\n"
    }
   ],
   "source": [
    "from textblob import TextBlob\n",
    "\n",
    "str1 = 'Parts of speech examples: an article, to write, interesting, easily, and, of'\n",
    "\n",
    "result = TextBlob(str1)\n",
    "print(result.tags)"
   ]
  },
  {
   "cell_type": "markdown",
   "metadata": {},
   "source": [
    "# Synonyms from Wordnet"
   ]
  },
  {
   "cell_type": "code",
   "execution_count": 97,
   "metadata": {
    "tags": []
   },
   "outputs": [
    {
     "output_type": "stream",
     "name": "stdout",
     "text": "a symptom of some physical hurt or disorder\n['the patient developed severe pain and distension']\n"
    }
   ],
   "source": [
    "from nltk.corpus import wordnet \n",
    "syn = wordnet.synsets('pain')\n",
    "print(syn[0].definition())\n",
    "print(syn[0].examples())\n"
   ]
  },
  {
   "cell_type": "code",
   "execution_count": 117,
   "metadata": {
    "tags": []
   },
   "outputs": [
    {
     "output_type": "stream",
     "name": "stdout",
     "text": "['dog', 'domestic_dog', 'Canis_familiaris', 'frump', 'dog', 'dog', 'cad', 'bounder', 'blackguard', 'dog', 'hound', 'heel', 'frank', 'frankfurter', 'hotdog', 'hot_dog', 'dog', 'wiener', 'wienerwurst', 'weenie', 'pawl', 'detent', 'click', 'dog', 'andiron', 'firedog', 'dog', 'dog-iron', 'chase', 'chase_after', 'trail', 'tail', 'tag', 'give_chase', 'dog', 'go_after', 'track']\n"
    }
   ],
   "source": [
    "from nltk.corpus import wordnet \n",
    "\n",
    "synonyms = []\n",
    "word = input()\n",
    "for syn in wordnet.synsets(word):\n",
    "    for lemma in syn.lemmas():\n",
    "        synonyms.append(lemma.name())\n",
    "print(synonyms)\n"
   ]
  },
  {
   "cell_type": "code",
   "execution_count": 124,
   "metadata": {
    "tags": []
   },
   "outputs": [
    {
     "output_type": "stream",
     "name": "stdout",
     "text": "['large', 'big', 'big']\n"
    }
   ],
   "source": [
    "from nltk.corpus import wordnet \n",
    "\n",
    "anto = []\n",
    "word = input()\n",
    "for syn in wordnet.synsets(word):\n",
    "    for lemma in syn.lemmas():\n",
    "        if lemma.antonyms():\n",
    "            anto.append(lemma.antonyms()[0].name())\n",
    "print(anto)\n"
   ]
  },
  {
   "cell_type": "markdown",
   "metadata": {},
   "source": [
    "# Chunking"
   ]
  },
  {
   "cell_type": "code",
   "execution_count": 126,
   "metadata": {
    "tags": []
   },
   "outputs": [
    {
     "output_type": "stream",
     "name": "stdout",
     "text": "[('A', 'DT'), ('black', 'JJ'), ('television', 'NN'), ('and', 'CC'), ('a', 'DT'), ('white', 'JJ'), ('stove', 'NN'), ('were', 'VBD'), ('bought', 'VBN'), ('for', 'IN'), ('the', 'DT'), ('new', 'JJ'), ('apartment', 'NN'), ('of', 'IN'), ('John', 'NNP')]\n"
    }
   ],
   "source": [
    "from textblob import TextBlob\n",
    "\n",
    "str1 = 'A black television and a white stove were bought for the new apartment of John.'\n",
    "\n",
    "result = TextBlob(str1)\n",
    "print(result.tags)"
   ]
  },
  {
   "cell_type": "code",
   "execution_count": 127,
   "metadata": {
    "tags": []
   },
   "outputs": [
    {
     "output_type": "stream",
     "name": "stdout",
     "text": "(S\n  (NP A/DT black/JJ television/NN)\n  and/CC\n  (NP a/DT white/JJ stove/NN)\n  were/VBD\n  bought/VBN\n  for/IN\n  (NP the/DT new/JJ apartment/NN)\n  of/IN\n  John/NNP)\n"
    }
   ],
   "source": [
    "regex = 'NP: {<DT>?<JJ>*<NN>}'\n",
    "rp = nltk.RegexpParser(regex)\n",
    "result = rp.parse(result.tags)\n",
    "print(result)"
   ]
  },
  {
   "cell_type": "code",
   "execution_count": 128,
   "metadata": {},
   "outputs": [],
   "source": [
    "result.draw()"
   ]
  },
  {
   "cell_type": "markdown",
   "metadata": {},
   "source": [
    "# Named entity recognition using NLTK"
   ]
  },
  {
   "cell_type": "code",
   "execution_count": 131,
   "metadata": {
    "tags": []
   },
   "outputs": [
    {
     "output_type": "stream",
     "name": "stdout",
     "text": "(S\n  (PERSON Bill/NNP)\n  works/VBZ\n  for/IN\n  (PERSON Apple/NNP)\n  ,/,\n  so/IN\n  he/PRP\n  went/VBD\n  to/TO\n  (GPE Boston/NNP)\n  for/IN\n  a/DT\n  conference/NN\n  ./.)\n"
    }
   ],
   "source": [
    "from nltk import word_tokenize, pos_tag, ne_chunk\n",
    "\n",
    "input_str = 'Bill works for Apple, so he went to Boston for a conference.'\n",
    "\n",
    "print (ne_chunk(pos_tag(word_tokenize(input_str))))"
   ]
  },
  {
   "cell_type": "markdown",
   "metadata": {},
   "source": [
    "# Collacation extraction using ICE"
   ]
  },
  {
   "cell_type": "code",
   "execution_count": 142,
   "metadata": {},
   "outputs": [
    {
     "output_type": "error",
     "ename": "ModuleNotFoundError",
     "evalue": "No module named 'ICE'",
     "traceback": [
      "\u001b[1;31m---------------------------------------------------------------------------\u001b[0m",
      "\u001b[1;31mModuleNotFoundError\u001b[0m                       Traceback (most recent call last)",
      "\u001b[1;32m<ipython-input-142-390c0884fd7e>\u001b[0m in \u001b[0;36m<module>\u001b[1;34m\u001b[0m\n\u001b[0;32m      1\u001b[0m \u001b[0minput\u001b[0m\u001b[1;33m=\u001b[0m\u001b[1;33m[\u001b[0m\u001b[1;34m'he and Chazz duel with all keys on the line.'\u001b[0m\u001b[1;33m]\u001b[0m\u001b[1;33m\u001b[0m\u001b[1;33m\u001b[0m\u001b[0m\n\u001b[0;32m      2\u001b[0m \u001b[1;33m\u001b[0m\u001b[0m\n\u001b[1;32m----> 3\u001b[1;33m \u001b[1;32mfrom\u001b[0m \u001b[0mICE\u001b[0m \u001b[1;32mimport\u001b[0m \u001b[0mCollocationExtractor\u001b[0m\u001b[1;33m\u001b[0m\u001b[1;33m\u001b[0m\u001b[0m\n\u001b[0m\u001b[0;32m      4\u001b[0m \u001b[1;33m\u001b[0m\u001b[0m\n\u001b[0;32m      5\u001b[0m \u001b[0mextractor\u001b[0m \u001b[1;33m=\u001b[0m \u001b[0mCollocationExtractor\u001b[0m\u001b[1;33m.\u001b[0m\u001b[0mwith_collocation_pipeline\u001b[0m\u001b[1;33m(\u001b[0m\u001b[1;34m'T1'\u001b[0m \u001b[1;33m,\u001b[0m \u001b[0mbing_key\u001b[0m \u001b[1;33m=\u001b[0m \u001b[1;34m'Temp'\u001b[0m\u001b[1;33m,\u001b[0m\u001b[0mpos_check\u001b[0m \u001b[1;33m=\u001b[0m \u001b[1;32mFalse\u001b[0m\u001b[1;33m)\u001b[0m\u001b[1;33m\u001b[0m\u001b[1;33m\u001b[0m\u001b[0m\n",
      "\u001b[1;31mModuleNotFoundError\u001b[0m: No module named 'ICE'"
     ]
    }
   ],
   "source": [
    "input=['he and Chazz duel with all keys on the line.']\n",
    "\n",
    "from ICE import CollocationExtractor\n",
    "\n",
    "extractor = CollocationExtractor.with_collocation_pipeline('T1' , bing_key = 'Temp',pos_check = False)\n",
    "\n",
    "print(extractor.get_collocations_of_length(input, length = 3))"
   ]
  },
  {
   "cell_type": "code",
   "execution_count": null,
   "metadata": {},
   "outputs": [],
   "source": []
  }
 ]
}